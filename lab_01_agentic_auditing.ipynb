{
 "cells": [
  {
   "cell_type": "markdown",
   "id": "c677c949-8c05-4389-9265-4e03d09e41e0",
   "metadata": {},
   "source": [
    "<img align='center' style='max-width: 1100px' src='banner.jpg'>"
   ]
  },
  {
   "cell_type": "markdown",
   "id": "5134330c-1804-4448-bb04-d20a054a0cbd",
   "metadata": {},
   "source": [
    "<img align=\"right\" style=\"max-width: 250px; height: auto\" src=\"sfao_logo.png\">\n",
    "\n",
    "## Agentic Accounting Journal Entry Testing\n",
    "\n",
    "Code Lab 001 - World Continuous Auditing & Reporting Symposium "
   ]
  },
  {
   "cell_type": "markdown",
   "id": "42f18dcc-2518-43a5-858c-45d4caadc772",
   "metadata": {},
   "source": [
    "Our lab environment is based on `Jupyter Notebooks` (https://jupyter.org/), which provide an interactive platform for performing a variety of statistical evaluations and data analyses. In this lab, we will explore how to apply **Artificial Intelligence (AI)**, specifically using the `crewAI` framework, to perform automated auditing tasks. The objective is to leverage multiple AI agents that can collaboratively analyze accounting journal entries, simulating the work of human auditors. This approach is based on the concept of **Agentic Auditing**, where specialized AI agents are assigned distinct tasks, such as anomaly detection, compliance verification, and approval flow analysis. Each agent operates autonomously but works as part of a team, ensuring that audit processes are thorough and efficient."
   ]
  },
  {
   "cell_type": "markdown",
   "id": "ff2e191d-4e03-450c-84fb-51630358afbd",
   "metadata": {},
   "source": [
    "<img align=\"center\" style=\"max-width: 950px\" src=\"./agent.png\">\n",
    "\n",
    "**Figure 1: Artificial Intelligence Agents**"
   ]
  },
  {
   "cell_type": "markdown",
   "id": "8f938e0d-c837-40e2-bf6e-844a99395621",
   "metadata": {},
   "source": [
    "The application of AI in auditing has evolved rapidly, with foundational work in automation and AI-driven decision-making influencing the future of audit practices. Researchers and practitioners alike are now exploring how to deploy these agents in real-world audit tasks, such as detecting irregularities in financial records, improving the accuracy of audits, and reducing manual effort. In this lab, we will implement and run multiple agents using the `crewAI` framework to collaboratively audit journal entries. By the end of the lab, you will understand how to set up AI agents, assign them specific audit tasks, and have them work together to identify anomalies in accounting data.\n",
    "\n",
    "The figure below provides a high-level overview of the **agentic journal entry testing process** we aim to establish in this lab."
   ]
  },
  {
   "cell_type": "markdown",
   "id": "0a46facc-a534-4021-b63d-3bb0e4a3138e",
   "metadata": {},
   "source": [
    "<img align=\"center\" style=\"max-width: 900px\" src=\"./audit_process.png\">\n",
    "\n",
    "**Figure 2: Agentic Journal Entry Testing Process**"
   ]
  },
  {
   "cell_type": "markdown",
   "id": "2a25966c-2659-4ed0-8f8b-0c22bfe11b8f",
   "metadata": {},
   "source": [
    "Using the `crewAI` framework (https://www.crewai.com/), we will implement and deploy a team of AI agents to audit accounting journal entries. Each agent will perform specific tasks such as anomaly detection, compliance checks, or approval flow analysis. After setting up the agents, we will have them work together to analyze the journal entries and identify any irregularities."
   ]
  },
  {
   "cell_type": "markdown",
   "id": "07ada38a-62ad-4800-b40d-265b70733f5c",
   "metadata": {},
   "source": [
    "As always, pls. don't hesitate to ask all your questions either during the lab, post them in our CANVAS (StudyNet) forum (https://learning.unisg.ch), or send us an email (using the course email)."
   ]
  },
  {
   "cell_type": "markdown",
   "id": "cb3441c5-bc7f-4ca3-8288-52ed9005b529",
   "metadata": {},
   "source": [
    "## 1. Lab Objectives:"
   ]
  },
  {
   "cell_type": "markdown",
   "id": "b483d507-7bc7-4347-844a-f0d6dcd3a9c9",
   "metadata": {},
   "source": [
    "After today's lab, you should be able to:\n",
    "\n",
    "> 1. **Understand Agentic Auditing:** Grasp the basics of using AI agents for auditing tasks.\n",
    "> 2. **Implement AI Agents with crewAI:** Set up and configure agents to perform audit tasks.\n",
    "> 3. **Apply Agents for Journal Entry Testing:** Use agents to detect anomalies in journal entries.\n",
    "> 4. **Evaluate Agent Performance:** Analyze the performance of agents using audit-relevant metrics.\n",
    "> 5. **Report Audit Outcomes:** Visualize and summarize audit results.\n"
   ]
  },
  {
   "cell_type": "markdown",
   "id": "7bf28db5-bdec-43eb-a14e-2c494c3fb29e",
   "metadata": {},
   "source": [
    "## 2. Setup of the Jupyter Notebook Environment"
   ]
  },
  {
   "cell_type": "markdown",
   "id": "136f50dc-03da-4c24-ad16-d135eeff2860",
   "metadata": {},
   "source": [
    "We need to import several Python libraries that facilitate data analysis and visualization. We will primarily use `crewAI`, `SqlAlchemy`, `Langchain`, and a few utility libraries throughout this lab:"
   ]
  },
  {
   "cell_type": "code",
   "execution_count": null,
   "id": "feda3546-4ad5-47bb-8a5d-950617487aaf",
   "metadata": {},
   "outputs": [],
   "source": [
    "# import text processing, database and utility libraries\n",
    "import os\n",
    "import pandas as pd\n",
    "import tabulate as tb\n",
    "from datetime import datetime\n",
    "from IPython.display import Markdown, display\n",
    "from textwrap import dedent\n",
    "from sqlalchemy import create_engine, MetaData, Table, Column, Integer, String, Float, Date, insert"
   ]
  },
  {
   "cell_type": "markdown",
   "id": "a936a85f-c0f8-4646-9821-82366281f513",
   "metadata": {},
   "source": [
    "Import the `crewAI`agentic framework library:"
   ]
  },
  {
   "cell_type": "code",
   "execution_count": null,
   "id": "c3d9a94d-49d2-46e7-ab62-35b94cbda1d6",
   "metadata": {},
   "outputs": [],
   "source": [
    "# import crewai library and tools\n",
    "from crewai import Crew, Agent, Process, Task\n",
    "from crewai_tools import BaseTool"
   ]
  },
  {
   "cell_type": "markdown",
   "id": "b2ef761b-b744-43ef-b88b-39c683444c5e",
   "metadata": {},
   "source": [
    "Import the `langchain` LLM chaining library:"
   ]
  },
  {
   "cell_type": "code",
   "execution_count": null,
   "id": "132b954b-9e58-4cb0-8fc8-315adb0b1910",
   "metadata": {},
   "outputs": [],
   "source": [
    "# import langchain\n",
    "from langchain_openai import ChatOpenAI"
   ]
  },
  {
   "cell_type": "markdown",
   "id": "ffa59bd9-714c-4785-99b3-4413a225c008",
   "metadata": {},
   "source": [
    "## 3. Setup of the Local Large Language Model (LLM)"
   ]
  },
  {
   "cell_type": "markdown",
   "id": "fc50aa84-6d0f-4411-885a-8903c96b5796",
   "metadata": {},
   "source": [
    "In this section, we set up the necessary environment variables and initialize the access to a local **Large Language Model (LLM)**, which the agents will use to perform different audit tasks, such as reviewing organizational guidelines. In this step, we set up a workaround by setting a few dummy environment variables required for the **Langchain** `ChatOpenAI` interface. The environment variables would typically store API keys, but since we're working with a local LLM, these are placeholders."
   ]
  },
  {
   "cell_type": "code",
   "execution_count": null,
   "id": "759a7ac5-91be-445a-9856-0dc822198be3",
   "metadata": {},
   "outputs": [],
   "source": [
    "# set dummy environment variables\n",
    "os.environ['OPENAI_API_KEY'] = 'Na'  # Masked API key"
   ]
  },
  {
   "cell_type": "markdown",
   "id": "edebd013-5c1d-4188-93a4-1ef90e3a1fe1",
   "metadata": {},
   "source": [
    "Next, we will use the ChatOpenAI` interface to connect to a to a locally hosted **LLaMA3** model. The model will be used by the agents to perform natural language tasks during the audit process: "
   ]
  },
  {
   "cell_type": "code",
   "execution_count": null,
   "id": "1d677c3b-18b2-407c-b02d-fee101ca8398",
   "metadata": {},
   "outputs": [],
   "source": [
    "# initialize the local llama 3.0 llm by meta.ai\n",
    "llm = ChatOpenAI(model='crewai-llama3', base_url='http://localhost:11434/v1')"
   ]
  },
  {
   "cell_type": "markdown",
   "id": "d7e675f5-5a80-4b99-be4a-10db699a298c",
   "metadata": {},
   "source": [
    "Before we dive into the more formal auditing tasks, let’s have some fun testing the local **LLaMA3** model. We’ll simulate a scenario where the AI is asked to audit an expense report for a quirky employee who might be trying to sneak in some personal purchases. This test will ensure our model is responding correctly while adding a bit of humor to the process:"
   ]
  },
  {
   "cell_type": "code",
   "execution_count": null,
   "id": "19845ad1-6be1-49d1-991b-00e145558d42",
   "metadata": {},
   "outputs": [],
   "source": [
    "# define audit prompt \n",
    "prompt = \"\"\"\n",
    "Imagine you're an auditor reviewing an expense report from an employee who claims all expenses are legitimate business costs. \n",
    "Here's a list of items they've submitted:\n",
    "\n",
    "1. Office supplies - $100\n",
    "2. Coffee machine - $250\n",
    "3. Unicorn onesie - $45\n",
    "4. 10-pound gummy bear - $30\n",
    "5. \"Business trip\" to Disneyland - $2000\n",
    "6. Sushi for team meeting - $150\n",
    "\n",
    "Please identify which items are legitimate business expenses and which might require further investigation, with a bit of humor in your response.\n",
    "\"\"\""
   ]
  },
  {
   "cell_type": "markdown",
   "id": "2db6b4ff-52e7-4804-84b9-a9433c769302",
   "metadata": {},
   "source": [
    "Next, the local **LLaMA3** model is tasked with determining which items in the expense report are legitimate and which require further investigation. The model should provide a humorous yet practical analysis of the expenses:"
   ]
  },
  {
   "cell_type": "code",
   "execution_count": null,
   "id": "bf761e8a-44bd-42eb-831f-4db5606a7524",
   "metadata": {},
   "outputs": [],
   "source": [
    "# test the model with this fun audit prompt\n",
    "print(llm.invoke(prompt).content)"
   ]
  },
  {
   "cell_type": "markdown",
   "id": "6d6e378a-21ec-4c5f-8908-8fe475d2aa12",
   "metadata": {},
   "source": [
    "## 4. Establishing the Senior Auditor Agent"
   ]
  },
  {
   "cell_type": "markdown",
   "id": "ec61f117-9b9a-47e9-8373-4165b2e12fb2",
   "metadata": {},
   "source": [
    "In this section, we will create the first agent of the audit crew, the **Senior Auditor**. The agent is skilled in extracting the key points from complex guidelines and turning them into actionable insights. Let's walk through the steps to create and assign tasks to this agent."
   ]
  },
  {
   "cell_type": "markdown",
   "id": "723c9d0e-70da-44fe-8a8d-5ada8b9cb44b",
   "metadata": {},
   "source": [
    "<img align='center' style=\"max-width: 850px\" src='./senior_auditor_agent.png'>\n",
    "\n",
    "**Figure 3: Senior Auditor Agent - Tools and Capabilities**"
   ]
  },
  {
   "cell_type": "markdown",
   "id": "93787182-3ba4-42f1-86f6-464374f48be6",
   "metadata": {},
   "source": [
    "The **Senior Auditor** agent will need a tool to read the organizational guidelines. We define a class called `ReadGuidelines` that reads a text file containing the guidelines and returns its content. This will allow the agent to access and process the guidelines."
   ]
  },
  {
   "cell_type": "code",
   "execution_count": null,
   "id": "d0023afe-01a4-452f-af73-11a8a321ade8",
   "metadata": {},
   "outputs": [],
   "source": [
    "# define the ReadGuidelines tool\n",
    "class ReadGuidelines(BaseTool):\n",
    "\n",
    "    name: str = 'Read Guidelines'\n",
    "    description: str = 'Read organisational guidelines and return the guideline content.'\n",
    "    result_as_answer: bool = True\n",
    "\n",
    "    # define database query\n",
    "    def _run(self, query: str) -> str:\n",
    "        \"\"\"Read a text file from the given file path and query its content.\"\"\"\n",
    "        try:\n",
    "            file_path='./guideline.txt'\n",
    "            with open(file_path, 'r') as file:\n",
    "                content = file.read()\n",
    "            return str(content)\n",
    "\n",
    "        except Exception as exception:\n",
    "            return str(exception)"
   ]
  },
  {
   "cell_type": "code",
   "execution_count": null,
   "id": "5b73fbe0-2f9c-4568-b8b5-60ad85a67ebc",
   "metadata": {},
   "outputs": [],
   "source": [
    "# instantiate the ReadGuidelines tool\n",
    "rga = ReadGuidelines()"
   ]
  },
  {
   "cell_type": "markdown",
   "id": "82394519-5621-4b1c-83b9-f4403b6f973b",
   "metadata": {},
   "source": [
    "Next, we define the **Senior Auditor** agent. This agent is designed to read the organizational guidelines using the `ReadGuidelines` tool and summarize them in a clear and concise way, particularly focusing on relevant points for an IT auditor.\n",
    "\n",
    "The Senior Auditor agent has the following characteristics:\n",
    "- **Goal:** To analyze comprehensive and complex organizational guidelines and extract their main points.\n",
    "- **Backstory:** A skilled auditor known for turning complex guidelines into actionable insights."
   ]
  },
  {
   "cell_type": "code",
   "execution_count": null,
   "id": "c535e02a-2cb3-4318-b0d7-fee4ca66cee4",
   "metadata": {},
   "outputs": [],
   "source": [
    "# define the Senior Auditor agent\n",
    "senior_auditor = Agent(\n",
    "    role='Senior Auditor',\n",
    "    goal=dedent(\"\"\"\\\n",
    "        Analyze comprehensive and complex organizational policy and extract their main points.\n",
    "    \"\"\"),\n",
    "    backstory=dedent(\"\"\"\\\n",
    "        You are a skilled Senior Auditor, celebrated for your ability to analyze organizational guidelines. \n",
    "        Your analysis reports distill complex guidelines into clear, concise, and actionable insights. \n",
    "        You excel in transforming complex regulations into understandable summaries that can be easily utilized by other audit team members.\n",
    "    \"\"\"),\n",
    "    verbose=True,\n",
    "    allow_delegation=False,\n",
    "    llm=llm, # the agent will use the LLaMA3 model\n",
    "    tools=[rga] # the agent will use the ReadGuidelines tool\n",
    ")"
   ]
  },
  {
   "cell_type": "markdown",
   "id": "a0ca72b6-8b3b-47ec-baf7-2c2dc9720daa",
   "metadata": {},
   "source": [
    "Now that the **Senior Auditor** is defined, we assign a task for the agent. The task is to read and summarize the guideline in a concise manner, focusing on query criteria to analyze payments. In summary, the task should:\n",
    "- **Criteria 1:** Be clear and concise, using minimal jargon.\n",
    "- **Criteria 2:** Focus on filtering criteria relevant to auditing payments.\n",
    "- **Criteria 3:** Provide the summary in just two or three sentences."
   ]
  },
  {
   "cell_type": "code",
   "execution_count": null,
   "id": "824a2481-7361-4545-b9e4-509eb8c5f210",
   "metadata": {},
   "outputs": [],
   "source": [
    "# define the task for the Senior Auditor agent\n",
    "analyze_guideline = Task(\n",
    "    description=dedent(\"\"\"\\\n",
    "        Summarize the given guideline and extract its main gist in a very concise and short manner for an IT auditor.\n",
    "\n",
    "        Utilize the provided guideline text and insights to complete your task effectively.\n",
    "\n",
    "        Your summary should be:\n",
    "        1. Clear and concise, avoiding complex jargon to ensure readability.\n",
    "        2. Focused on the key points relevant to deriving a SQL query for auditing payments.\n",
    "        3. Explicitly state the filtering criteria that the IT auditor should use when analyzing the payments to identify potential violations of the guideline.\n",
    "        4. Short, encompassing a total of two to three sentences (this is very important).\n",
    "    \"\"\"),\n",
    "    expected_output=dedent(\"\"\"\\\n",
    "        A concise and clear summary of the guideline, tailored for an IT auditor, including explicit filtering criteria for analyzing payments.\n",
    "    \"\"\"),\n",
    "    agent=senior_auditor, # assign the task to the senior auditor agent\n",
    "    max_attempts=1,\n",
    "    output_file='task_01.txt'\n",
    ")"
   ]
  },
  {
   "cell_type": "code",
   "execution_count": null,
   "id": "f83566af-1d9c-480d-ac09-ff9136ef89ee",
   "metadata": {},
   "outputs": [],
   "source": [
    "analyze_guideline.execute()"
   ]
  },
  {
   "cell_type": "markdown",
   "id": "db7e4e8c-cc8d-45a5-80e5-3f99cc31530b",
   "metadata": {},
   "source": [
    "## 5. Establishing the Senior IT Auditor Agent"
   ]
  },
  {
   "cell_type": "markdown",
   "id": "860ccef2-b81b-4d54-b2f6-b72a05ae3162",
   "metadata": {},
   "source": [
    "In this section, we will create the second agent of the audit crew. The **Senior IT Auditor** specializes in querying databases and ensuring that all payments comply with the organization's regulations. Let's walk through the steps to create and assign tasks to this agent."
   ]
  },
  {
   "cell_type": "markdown",
   "id": "020a4d0b-8204-4645-b1fd-06a5f4361503",
   "metadata": {},
   "source": [
    "<img align='center' style=\"max-width: 850px\" src='./senior_it_auditor_agent.png'>\n",
    "\n",
    "**Figure 4: Senior IT Auditor Agent - Tools and Capabilities**"
   ]
  },
  {
   "cell_type": "markdown",
   "id": "ef26065b-e81a-4075-a949-5e1cab6c87dd",
   "metadata": {},
   "source": [
    "Before we define the **Senior IT Auditor** agent, we need to set up an in-memory SQLite database that contains sample payment records. This will allow the agent to run SQL queries on these records to check for potential violations of the organizational guidelines."
   ]
  },
  {
   "cell_type": "code",
   "execution_count": null,
   "id": "40aa64c0-0771-4491-be6b-16bdaaa6c41a",
   "metadata": {},
   "outputs": [],
   "source": [
    "# define the metadata object\n",
    "metadata_obj = MetaData()\n",
    "\n",
    "# Define the schema for a payments table\n",
    "payments = Table(\n",
    "    \"payments\",\n",
    "    metadata_obj,\n",
    "    Column(\"id\", Integer, primary_key=True),\n",
    "    Column(\"text\", String(4), nullable=False),\n",
    "    Column(\"amount\", Float, nullable=False),\n",
    "    Column(\"date\", Date, nullable=False),\n",
    ")\n",
    "\n",
    "# insert sample data for payments\n",
    "payment_data = [\n",
    "    [1, 'ABC', 200, datetime(2023, 1, 1)],\n",
    "    [2, 'ABC', 1029, datetime(2023, 1, 2)],\n",
    "    [3, 'ABC', 232, datetime(2023, 1, 3)],\n",
    "    [4, 'ABC', 1225, datetime(2023, 1, 4)],\n",
    "    [5, 'ABC', 226, datetime(2023, 1, 5)],\n",
    "    [6, 'XYZ', 810, datetime(2023, 1, 1)],\n",
    "    [7, 'XYZ', 803, datetime(2023, 1, 2)],\n",
    "    [8, 'XYZ', 1798, datetime(2023, 1, 3)],\n",
    "    [9, 'XYZ', 795, datetime(2023, 1, 4)],\n",
    "    [10, 'XYZ', 791, datetime(2023, 1, 5)],\n",
    "]\n",
    "\n",
    "# create the in-memory SQLite engine and apply the schema\n",
    "engine = create_engine(\"sqlite:///:memory:\")\n",
    "metadata_obj.create_all(engine)\n",
    "\n",
    "# insert data into the payments table\n",
    "with engine.begin() as conn:\n",
    "    for payment in payment_data:\n",
    "        stmt = insert(payments).values(\n",
    "            id=payment[0],\n",
    "            text=payment[1],\n",
    "            amount=payment[2],\n",
    "            date=payment[3]\n",
    "        )\n",
    "        conn.execute(stmt)"
   ]
  },
  {
   "cell_type": "markdown",
   "id": "b1453cc9-5075-46b6-bf73-e7927d484272",
   "metadata": {},
   "source": [
    "Now that we have set up the in-memory payments database, we need to define a function that allows the **Senior IT Auditor** to run SQL queries on the database. This function will execute the queries and return the results in a structured format."
   ]
  },
  {
   "cell_type": "code",
   "execution_count": null,
   "id": "23c1d08b-2f07-4a33-bf3b-690e5fd19f72",
   "metadata": {},
   "outputs": [],
   "source": [
    "# define a function to execute a SQL query on the database\n",
    "def run_query(query):\n",
    "    try:\n",
    "        # execute the query and fetch results\n",
    "        result = pd.read_sql(query, con=engine)\n",
    "        \n",
    "        if result.empty:\n",
    "            return \"No results found.\"\n",
    "        \n",
    "        # format and return the result as a table\n",
    "        table = tb.tabulate(result, headers=result.columns, tablefmt=\"grid\")\n",
    "        \n",
    "        return table\n",
    "    \n",
    "    except Exception as e:\n",
    "        return str(e)"
   ]
  },
  {
   "cell_type": "markdown",
   "id": "7a6c60cf-e0eb-48d9-94fb-d068178f9765",
   "metadata": {},
   "source": [
    "The **Senior IT Auditor** will use the `QueryDatabase` tool to run SQL queries on the payment records. This tool takes a query as input, executes it on the database, and returns the results."
   ]
  },
  {
   "cell_type": "code",
   "execution_count": null,
   "id": "32364242-69d5-442a-b222-614ebe300fa1",
   "metadata": {},
   "outputs": [],
   "source": [
    "# define the QueryDatabase tool\n",
    "class QueryDatabase(BaseTool):\n",
    "\n",
    "    name: str = \"Query database\"\n",
    "    description: str = \"Execute SQL database query and return the query result.\"\n",
    "    result_as_answer: bool = True\n",
    "\n",
    "    # define database query\n",
    "    def _run(self, query: str) -> str:\n",
    "\n",
    "        try:\n",
    "            query = query.strip().replace('\"', '')\n",
    "\n",
    "            # echoing cleaned query\n",
    "            print(f\"\\nExecuting cleaned query: {query}\")\n",
    "\n",
    "            if not query:\n",
    "                return \"No SQL query provided.\"\n",
    "\n",
    "            result = run_query(query)\n",
    "\n",
    "            return result\n",
    "\n",
    "        except Exception as exception:\n",
    "            return str(exception)"
   ]
  },
  {
   "cell_type": "code",
   "execution_count": null,
   "id": "eef33ef2-7cc0-48a3-ac91-72529473d69c",
   "metadata": {},
   "outputs": [],
   "source": [
    "# instantiate the QueryDatabase tool\n",
    "qdb = QueryDatabase()"
   ]
  },
  {
   "cell_type": "markdown",
   "id": "45e232d6-f644-4275-b3fc-220ce01d093c",
   "metadata": {},
   "source": [
    "Next, we define the **Senior IT Auditor** agent. This agent is responsible for converting the organizational guideline summary into SQL queries to determine potential guideline violations in the payments database. The agent will use the `QueryDatabase` tool to execute these queries.\n",
    "\n",
    "The Senior IT Auditor agent has the following characteristics:\n",
    "- **Goal:** Convert guideline summaries into SQL queries for auditing payment records.\n",
    "- **Backstory:** A highly skilled IT auditor known for analyzing complex systems and ensuring compliance."
   ]
  },
  {
   "cell_type": "code",
   "execution_count": null,
   "id": "a1b1efcf-5d46-416e-bb08-7b061161601a",
   "metadata": {},
   "outputs": [],
   "source": [
    "# define the Senior IT Auditor agent\n",
    "senior_it_auditor = Agent(\n",
    "    role='Senior IT Auditor',\n",
    "    goal=dedent(\"\"\"\\\n",
    "        Convert an organizational guidelines summary into a sql query to determine guideline violations in the database of payment records.\n",
    "    \"\"\"),\n",
    "    backstory=dedent(\"\"\"\\\n",
    "        You are a highly skilled IT auditor at a leading financial auditing firm. \n",
    "        Your expertise includes identifying system vulnerabilities, ensuring regulatory compliance, and optimizing payment processes.\n",
    "        You excel in analyzing complex IT systems and providing actionable recommendations to enhance security and efficiency.\n",
    "    \"\"\"),\n",
    "    verbose=True,\n",
    "    allow_delegation=False,\n",
    "    llm=llm, # the agent will use the LLaMA3 model\n",
    "    tools=[qdb]  # the agent will use the QueryDatabase tool\n",
    ")"
   ]
  },
  {
   "cell_type": "markdown",
   "id": "e07aaab2-9a6f-4cc3-960f-ab004cc4ca2c",
   "metadata": {},
   "source": [
    "Now that we have defined the **Senior IT Auditor** agent and the tools, we can assign a task to the agent. The task is to translate the filtering criteria provided by the Senior Auditor into an SQL query and execute it on the payments database. The task will retrieve high-value payments that might indicate potential violations.\n",
    "\n",
    "The task will:\n",
    "\n",
    "- Use the filtering criteria from the Senior Auditor to construct the SQL query.\n",
    "- Execute the query and return the results in a structured format.\n",
    "- Ensure that the task completes with the message \">completed<\" once the query has been successfully executed."
   ]
  },
  {
   "cell_type": "code",
   "execution_count": null,
   "id": "dda17ffd-759c-4881-9a35-ba67d97186dc",
   "metadata": {},
   "outputs": [],
   "source": [
    "# define the Query Database task\n",
    "query_database = Task(\n",
    "    description=dedent(\"\"\"\\\n",
    "        Translate the filtering criteria provided by the Senior Auditor into a SQL query and execute it to audit the relevant databases for payments exceeding a certain threshold.\n",
    "\n",
    "        Your actions should encompass:\n",
    "        \n",
    "        1. Use the explicit filtering criteria provided by the Senior Auditor to derive an SQL query.\n",
    "        2. Ensure the query retrieves all relevant fields using * instead of individual field names.\n",
    "        3. Execute the query and return the results in a structured format (e.g., JSON or a nicely formatted table).\n",
    "\n",
    "        Your action input should always follow the following format (this is very important):\n",
    "\n",
    "        {\"query\": \"SELECT * FROM payments WHERE <filtering_criteria>\"}\n",
    "\n",
    "        No quotation marks around the SQL statements. \n",
    "\n",
    "        The objective is to identify all high-value payments, which may indicate potential issues requiring further investigation. \n",
    "        The task is completed once the query returns \">completed<\" at the end.\n",
    "    \"\"\"),\n",
    "    expected_output=dedent(\"\"\"\\\n",
    "        A table containing all fields (id, text, amount, date) for payments that meet the filtering criteria provided by the Senior Auditor.\n",
    "    \"\"\"),\n",
    "    agent=senior_it_auditor, # assign the task to the senior it auditor agent\n",
    "    max_attempts=1,\n",
    "    output_file='task_02.txt'\n",
    ")"
   ]
  },
  {
   "cell_type": "markdown",
   "id": "d3af8120-6cd6-4bff-a2ca-4922a95c578b",
   "metadata": {},
   "source": [
    "## 6. Establishing the Audit Manager Agent"
   ]
  },
  {
   "cell_type": "markdown",
   "id": "7cb83621-2315-4b04-b128-a8356a4e1707",
   "metadata": {},
   "source": [
    "In this section, we will create the third agent of the audit crew. The **Audit Manager** specializes in turning complex audit findings into concise and accessible reports that can be easily understood by non-technical audiences."
   ]
  },
  {
   "cell_type": "markdown",
   "id": "fde7f03e-9705-4935-9bbd-47f7b06c5a06",
   "metadata": {},
   "source": [
    "<img align='center' style='max-width: 900px' src='./audit_manager_agent.png'>\n",
    "\n",
    "**Figure 5: Senior Audit Manager Agent - Tools and Capabilities**"
   ]
  },
  {
   "cell_type": "markdown",
   "id": "32633712-5672-4012-9a58-db691fc7132b",
   "metadata": {},
   "source": [
    "The **Audit Manager** agent will take the findings from the Senior IT Auditor and use them to produce a comprehensive report. The agent’s report will include details of the audit process, findings, and actionable recommendations. \n",
    "\n",
    "The **Audit Manager** has the following characteristics:\n",
    "- **Goal:** To create insightful and accessible audit reports based on audit findings.\n",
    "- **Backstory:** A celebrated Audit Manager known for producing impactful reports that distill complex audit data into clear insights."
   ]
  },
  {
   "cell_type": "code",
   "execution_count": null,
   "id": "c853d3da-6c05-4562-bcf2-49700c350458",
   "metadata": {},
   "outputs": [],
   "source": [
    "audit_manager = Agent(\n",
    "    role='Manager Auditor',\n",
    "    goal=dedent(\"\"\"\\\n",
    "        Create comprehensive and compelling audit reports that provide clear insights and actionable recommendations.\n",
    "    \"\"\"),\n",
    "    backstory=dedent(\"\"\"\\\n",
    "        You are a renowned Audit Manager, celebrated for your ability to produce insightful and impactful audit reports.\n",
    "        Your reports distill complex audit findings into clear, accessible, and actionable insights, making them valuable to stakeholders.\n",
    "    \"\"\"),\n",
    "    verbose=True,\n",
    "    allow_delegation=False,\n",
    "    llm=llm, # the agent will use the LLaMA3 model\n",
    "    tools=[]  # the Audit Manager doesn't need any tools here\n",
    ")"
   ]
  },
  {
   "cell_type": "markdown",
   "id": "99dba809-732e-4299-b694-fda7e260b542",
   "metadata": {},
   "source": [
    "Now that we have defined the **Audit Manager** agent, we assign a task to the agent to write the final audit report. The report will be based on the query results from the **Senior IT Auditor** and should be structured to provide clear insights and actionable recommendations to stakeholders.\n",
    "\n",
    "The task will:\n",
    "\n",
    "- Be informative and accessible to a non-technical audience.\n",
    "- Include details about the audit procedures, findings, and recommendations.\n",
    "- Summarize the key points in a clear and concise manner."
   ]
  },
  {
   "cell_type": "code",
   "execution_count": null,
   "id": "24d8c6c4-8f44-4c26-a130-dcf84b5ef184",
   "metadata": {},
   "outputs": [],
   "source": [
    "# Define the report writing task for the Audit Manager\n",
    "write_report = Task(\n",
    "    description=dedent(\"\"\"\\\n",
    "        Using the query results provided by the Senior IT Auditor, write an engaging and comprehensive audit report.\n",
    "\n",
    "        Your report should be:\n",
    "\n",
    "        1. Informative and accessible to a non-technical audience.\n",
    "        2. Clear and concise, avoiding complex jargon to ensure readability.\n",
    "        3. Comprehensive, covering the audit procedure and associated audit findings.\n",
    "\n",
    "        Your report should include:\n",
    "\n",
    "        1. A brief introduction that provides context for the audit.\n",
    "        2. A detailed description of the performed audit procedures.\n",
    "        3. A thorough presentation of the obtained audit findings, including payment details.\n",
    "        4. Actionable recommendations based on the findings.\n",
    "        5. A final conclusion that summarizes the key points and implications.\n",
    "\n",
    "        The goal is to create a report that effectively communicates the audit findings and provides valuable insights to stakeholders.\n",
    "        \n",
    "        As the report writing expert, you are responsible for producing this report without requesting additional information. \n",
    "        Utilize the provided data and insights to complete your task effectively.\n",
    "    \"\"\"),\n",
    "    expected_output=dedent(\"\"\"\\\n",
    "        A full audit report presented in a clear and accessible manner.\n",
    "    \"\"\"),\n",
    "    agent=audit_manager,  # assign the task to the audit manager agent\n",
    "    max_attempts=1,\n",
    "    output_file='task_03.txt'\n",
    ")"
   ]
  },
  {
   "cell_type": "markdown",
   "id": "7f7f1c48-69f7-4794-bbc0-515dd45126ff",
   "metadata": {},
   "source": [
    "## 7. Establishing the Audit Team"
   ]
  },
  {
   "cell_type": "markdown",
   "id": "d1bd47c4-f009-4b3c-b1c3-35639176a233",
   "metadata": {},
   "source": [
    "In this final section, we bring together all the agents we have created—the **Senior Auditor**, **Senior IT Auditor**, and **Audit Manager**—and assign them their respective tasks. Together, they form the **Audit Team**, which will collaboratively perform the full audit process.\n",
    "\n",
    "The **Audit Team** will work sequentially:\n",
    "1. The **Senior Auditor** will analyze the guidelines and extract key points.\n",
    "2. The **Senior IT Auditor** will translate those points into SQL queries and run them on the payments database.\n",
    "3. The **Audit Manager** will compile the findings into a comprehensive audit report.\n",
    "\n",
    "Let’s get the team to work!"
   ]
  },
  {
   "cell_type": "code",
   "execution_count": null,
   "id": "d12ffd49-4294-4179-83b1-5e08fc5fa3ca",
   "metadata": {},
   "outputs": [],
   "source": [
    "# instantiate the audit team\n",
    "audit_team = Crew(\n",
    "    agents=[senior_auditor, senior_it_auditor, audit_manager],  # assign agents to the audit team\n",
    "    tasks=[analyze_guideline, query_database, write_report],     # assign tasks to the audit team\n",
    "    verbose=False,  # set logging level for output visibility\n",
    "    process=Process.sequential  # set the process to sequential to ensure proper order of execution\n",
    ")"
   ]
  },
  {
   "cell_type": "markdown",
   "id": "3f48c593-d828-48f7-8696-679cc713bc55",
   "metadata": {},
   "source": [
    "Now that the **Audit Team** is instantiated, we can run the crew to perform the audit. The agents will work through their tasks sequentially, ensuring each step is completed in sequential order."
   ]
  },
  {
   "cell_type": "code",
   "execution_count": null,
   "id": "3d0bd59f-aee0-44c2-bad2-41a15dce89e3",
   "metadata": {},
   "outputs": [],
   "source": [
    "# get the audit team to work\n",
    "result = audit_team.kickoff()"
   ]
  },
  {
   "cell_type": "code",
   "execution_count": null,
   "id": "93dcf7d6-14b2-4a82-8a43-5d0443677959",
   "metadata": {},
   "outputs": [],
   "source": []
  }
 ],
 "metadata": {
  "kernelspec": {
   "display_name": "wcars",
   "language": "python",
   "name": "wcars"
  },
  "language_info": {
   "codemirror_mode": {
    "name": "ipython",
    "version": 3
   },
   "file_extension": ".py",
   "mimetype": "text/x-python",
   "name": "python",
   "nbconvert_exporter": "python",
   "pygments_lexer": "ipython3",
   "version": "3.12.4"
  }
 },
 "nbformat": 4,
 "nbformat_minor": 5
}
